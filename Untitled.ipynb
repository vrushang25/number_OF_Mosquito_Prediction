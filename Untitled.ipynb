{
 "cells": [
  {
   "cell_type": "code",
   "execution_count": 23,
   "metadata": {},
   "outputs": [],
   "source": [
    "import pandas as pd\n",
    "df = pd.read_csv(\"final.csv\")\n",
    "df\n",
    "df = df[df['City Wide Daily Average'].notna()]\n",
    "df.to_csv(\"final2.csv\",index = False)"
   ]
  },
  {
   "cell_type": "code",
   "execution_count": 25,
   "metadata": {},
   "outputs": [
    {
     "data": {
      "text/html": [
       "<div>\n",
       "<style scoped>\n",
       "    .dataframe tbody tr th:only-of-type {\n",
       "        vertical-align: middle;\n",
       "    }\n",
       "\n",
       "    .dataframe tbody tr th {\n",
       "        vertical-align: top;\n",
       "    }\n",
       "\n",
       "    .dataframe thead th {\n",
       "        text-align: right;\n",
       "    }\n",
       "</style>\n",
       "<table border=\"1\" class=\"dataframe\">\n",
       "  <thead>\n",
       "    <tr style=\"text-align: right;\">\n",
       "      <th></th>\n",
       "      <th>Station Name</th>\n",
       "      <th>Climate ID</th>\n",
       "      <th>Date/Time</th>\n",
       "      <th>weather.year</th>\n",
       "      <th>weather.Month</th>\n",
       "      <th>Day</th>\n",
       "      <th>Max Temp (°C)</th>\n",
       "      <th>Min Temp (°C)</th>\n",
       "      <th>Mean Temp (°C)</th>\n",
       "      <th>Total Precip (mm)</th>\n",
       "      <th>City Wide Daily Average</th>\n",
       "    </tr>\n",
       "  </thead>\n",
       "  <tbody>\n",
       "    <tr>\n",
       "      <th>0</th>\n",
       "      <td>WINNIPEG THE FORKS</td>\n",
       "      <td>5023262</td>\n",
       "      <td>2015-05-04</td>\n",
       "      <td>2015</td>\n",
       "      <td>5</td>\n",
       "      <td>4</td>\n",
       "      <td>19.4</td>\n",
       "      <td>4.4</td>\n",
       "      <td>11.9</td>\n",
       "      <td>0.0</td>\n",
       "      <td>1.0</td>\n",
       "    </tr>\n",
       "    <tr>\n",
       "      <th>1</th>\n",
       "      <td>WINNIPEG THE FORKS</td>\n",
       "      <td>5023262</td>\n",
       "      <td>2015-05-06</td>\n",
       "      <td>2015</td>\n",
       "      <td>5</td>\n",
       "      <td>6</td>\n",
       "      <td>21.6</td>\n",
       "      <td>13.7</td>\n",
       "      <td>17.7</td>\n",
       "      <td>6.6</td>\n",
       "      <td>1.0</td>\n",
       "    </tr>\n",
       "    <tr>\n",
       "      <th>2</th>\n",
       "      <td>WINNIPEG THE FORKS</td>\n",
       "      <td>5023262</td>\n",
       "      <td>2015-05-08</td>\n",
       "      <td>2015</td>\n",
       "      <td>5</td>\n",
       "      <td>8</td>\n",
       "      <td>4.2</td>\n",
       "      <td>-0.8</td>\n",
       "      <td>1.7</td>\n",
       "      <td>0.0</td>\n",
       "      <td>0.0</td>\n",
       "    </tr>\n",
       "    <tr>\n",
       "      <th>3</th>\n",
       "      <td>WINNIPEG THE FORKS</td>\n",
       "      <td>5023262</td>\n",
       "      <td>2015-05-11</td>\n",
       "      <td>2015</td>\n",
       "      <td>5</td>\n",
       "      <td>11</td>\n",
       "      <td>10.7</td>\n",
       "      <td>4.2</td>\n",
       "      <td>7.5</td>\n",
       "      <td>0.0</td>\n",
       "      <td>0.0</td>\n",
       "    </tr>\n",
       "    <tr>\n",
       "      <th>4</th>\n",
       "      <td>WINNIPEG THE FORKS</td>\n",
       "      <td>5023262</td>\n",
       "      <td>2015-05-13</td>\n",
       "      <td>2015</td>\n",
       "      <td>5</td>\n",
       "      <td>13</td>\n",
       "      <td>9.3</td>\n",
       "      <td>6.1</td>\n",
       "      <td>7.7</td>\n",
       "      <td>0.3</td>\n",
       "      <td>0.0</td>\n",
       "    </tr>\n",
       "    <tr>\n",
       "      <th>...</th>\n",
       "      <td>...</td>\n",
       "      <td>...</td>\n",
       "      <td>...</td>\n",
       "      <td>...</td>\n",
       "      <td>...</td>\n",
       "      <td>...</td>\n",
       "      <td>...</td>\n",
       "      <td>...</td>\n",
       "      <td>...</td>\n",
       "      <td>...</td>\n",
       "      <td>...</td>\n",
       "    </tr>\n",
       "    <tr>\n",
       "      <th>458</th>\n",
       "      <td>WINNIPEG THE FORKS</td>\n",
       "      <td>5023262</td>\n",
       "      <td>2020-09-18</td>\n",
       "      <td>2020</td>\n",
       "      <td>9</td>\n",
       "      <td>18</td>\n",
       "      <td>19.7</td>\n",
       "      <td>1.4</td>\n",
       "      <td>10.6</td>\n",
       "      <td>0.5</td>\n",
       "      <td>0.0</td>\n",
       "    </tr>\n",
       "    <tr>\n",
       "      <th>459</th>\n",
       "      <td>WINNIPEG THE FORKS</td>\n",
       "      <td>5023262</td>\n",
       "      <td>2020-09-21</td>\n",
       "      <td>2020</td>\n",
       "      <td>9</td>\n",
       "      <td>21</td>\n",
       "      <td>22.4</td>\n",
       "      <td>15.1</td>\n",
       "      <td>18.8</td>\n",
       "      <td>0.0</td>\n",
       "      <td>1.0</td>\n",
       "    </tr>\n",
       "    <tr>\n",
       "      <th>460</th>\n",
       "      <td>WINNIPEG THE FORKS</td>\n",
       "      <td>5023262</td>\n",
       "      <td>2020-09-24</td>\n",
       "      <td>2020</td>\n",
       "      <td>9</td>\n",
       "      <td>24</td>\n",
       "      <td>21.2</td>\n",
       "      <td>5.4</td>\n",
       "      <td>13.3</td>\n",
       "      <td>1.3</td>\n",
       "      <td>1.0</td>\n",
       "    </tr>\n",
       "    <tr>\n",
       "      <th>461</th>\n",
       "      <td>WINNIPEG THE FORKS</td>\n",
       "      <td>5023262</td>\n",
       "      <td>2020-09-28</td>\n",
       "      <td>2020</td>\n",
       "      <td>9</td>\n",
       "      <td>28</td>\n",
       "      <td>13.6</td>\n",
       "      <td>8.0</td>\n",
       "      <td>10.8</td>\n",
       "      <td>0.0</td>\n",
       "      <td>1.0</td>\n",
       "    </tr>\n",
       "    <tr>\n",
       "      <th>462</th>\n",
       "      <td>WINNIPEG THE FORKS</td>\n",
       "      <td>5023262</td>\n",
       "      <td>2020-10-01</td>\n",
       "      <td>2020</td>\n",
       "      <td>10</td>\n",
       "      <td>1</td>\n",
       "      <td>7.6</td>\n",
       "      <td>0.3</td>\n",
       "      <td>4.0</td>\n",
       "      <td>0.0</td>\n",
       "      <td>0.0</td>\n",
       "    </tr>\n",
       "  </tbody>\n",
       "</table>\n",
       "<p>463 rows × 11 columns</p>\n",
       "</div>"
      ],
      "text/plain": [
       "           Station Name  Climate ID   Date/Time  weather.year  weather.Month  \\\n",
       "0    WINNIPEG THE FORKS     5023262  2015-05-04          2015              5   \n",
       "1    WINNIPEG THE FORKS     5023262  2015-05-06          2015              5   \n",
       "2    WINNIPEG THE FORKS     5023262  2015-05-08          2015              5   \n",
       "3    WINNIPEG THE FORKS     5023262  2015-05-11          2015              5   \n",
       "4    WINNIPEG THE FORKS     5023262  2015-05-13          2015              5   \n",
       "..                  ...         ...         ...           ...            ...   \n",
       "458  WINNIPEG THE FORKS     5023262  2020-09-18          2020              9   \n",
       "459  WINNIPEG THE FORKS     5023262  2020-09-21          2020              9   \n",
       "460  WINNIPEG THE FORKS     5023262  2020-09-24          2020              9   \n",
       "461  WINNIPEG THE FORKS     5023262  2020-09-28          2020              9   \n",
       "462  WINNIPEG THE FORKS     5023262  2020-10-01          2020             10   \n",
       "\n",
       "     Day  Max Temp (°C)  Min Temp (°C)  Mean Temp (°C)  Total Precip (mm)  \\\n",
       "0      4           19.4            4.4            11.9                0.0   \n",
       "1      6           21.6           13.7            17.7                6.6   \n",
       "2      8            4.2           -0.8             1.7                0.0   \n",
       "3     11           10.7            4.2             7.5                0.0   \n",
       "4     13            9.3            6.1             7.7                0.3   \n",
       "..   ...            ...            ...             ...                ...   \n",
       "458   18           19.7            1.4            10.6                0.5   \n",
       "459   21           22.4           15.1            18.8                0.0   \n",
       "460   24           21.2            5.4            13.3                1.3   \n",
       "461   28           13.6            8.0            10.8                0.0   \n",
       "462    1            7.6            0.3             4.0                0.0   \n",
       "\n",
       "     City Wide Daily Average  \n",
       "0                        1.0  \n",
       "1                        1.0  \n",
       "2                        0.0  \n",
       "3                        0.0  \n",
       "4                        0.0  \n",
       "..                       ...  \n",
       "458                      0.0  \n",
       "459                      1.0  \n",
       "460                      1.0  \n",
       "461                      1.0  \n",
       "462                      0.0  \n",
       "\n",
       "[463 rows x 11 columns]"
      ]
     },
     "execution_count": 25,
     "metadata": {},
     "output_type": "execute_result"
    }
   ],
   "source": [
    "df = pd.read_csv(\"final2.csv\")\n",
    "df"
   ]
  },
  {
   "cell_type": "code",
   "execution_count": 31,
   "metadata": {},
   "outputs": [
    {
     "data": {
      "text/plain": [
       "0      1.0\n",
       "1      1.0\n",
       "2      0.0\n",
       "3      0.0\n",
       "4      0.0\n",
       "      ... \n",
       "458    0.0\n",
       "459    1.0\n",
       "460    1.0\n",
       "461    1.0\n",
       "462    0.0\n",
       "Name: City Wide Daily Average, Length: 463, dtype: float64"
      ]
     },
     "execution_count": 31,
     "metadata": {},
     "output_type": "execute_result"
    }
   ],
   "source": [
    "import numpy as np\n",
    "df = df.replace(r'^\\s*$', np.nan, regex=True)\n",
    "df.to_csv(\"final2.csv\",index)\n",
    "df.iloc[:,10]"
   ]
  },
  {
   "cell_type": "code",
   "execution_count": 42,
   "metadata": {},
   "outputs": [
    {
     "name": "stdout",
     "output_type": "stream",
     "text": [
      "           Station Name  Climate ID   Date/Time  weather.year  weather.Month  \\\n",
      "0    WINNIPEG THE FORKS     5023262  2015-05-04          2015              5   \n",
      "1    WINNIPEG THE FORKS     5023262  2015-05-06          2015              5   \n",
      "2    WINNIPEG THE FORKS     5023262  2015-05-08          2015              5   \n",
      "3    WINNIPEG THE FORKS     5023262  2015-05-11          2015              5   \n",
      "4    WINNIPEG THE FORKS     5023262  2015-05-13          2015              5   \n",
      "..                  ...         ...         ...           ...            ...   \n",
      "458  WINNIPEG THE FORKS     5023262  2020-09-18          2020              9   \n",
      "459  WINNIPEG THE FORKS     5023262  2020-09-21          2020              9   \n",
      "460  WINNIPEG THE FORKS     5023262  2020-09-24          2020              9   \n",
      "461  WINNIPEG THE FORKS     5023262  2020-09-28          2020              9   \n",
      "462  WINNIPEG THE FORKS     5023262  2020-10-01          2020             10   \n",
      "\n",
      "     Day  Max Temp (°C)  Min Temp (°C)  Mean Temp (°C)  Total Precip (mm)  \\\n",
      "0      4           19.4            4.4            11.9                0.0   \n",
      "1      6           21.6           13.7            17.7                6.6   \n",
      "2      8            4.2           -0.8             1.7                0.0   \n",
      "3     11           10.7            4.2             7.5                0.0   \n",
      "4     13            9.3            6.1             7.7                0.3   \n",
      "..   ...            ...            ...             ...                ...   \n",
      "458   18           19.7            1.4            10.6                0.5   \n",
      "459   21           22.4           15.1            18.8                0.0   \n",
      "460   24           21.2            5.4            13.3                1.3   \n",
      "461   28           13.6            8.0            10.8                0.0   \n",
      "462    1            7.6            0.3             4.0                0.0   \n",
      "\n",
      "     City Wide Daily Average  \n",
      "0                        1.0  \n",
      "1                        1.0  \n",
      "2                        0.0  \n",
      "3                        0.0  \n",
      "4                        0.0  \n",
      "..                       ...  \n",
      "458                      0.0  \n",
      "459                      1.0  \n",
      "460                      1.0  \n",
      "461                      1.0  \n",
      "462                      0.0  \n",
      "\n",
      "[463 rows x 11 columns]\n",
      "[[19.4  4.4 11.9  0. ]\n",
      " [21.6 13.7 17.7  6.6]\n",
      " [ 4.2 -0.8  1.7  0. ]\n",
      " ...\n",
      " [21.2  5.4 13.3  1.3]\n",
      " [13.6  8.  10.8  0. ]\n",
      " [ 7.6  0.3  4.   0. ]]\n",
      "[1.80000000e-01 5.00000000e-01 0.00000000e+00 0.00000000e+00\n",
      " 1.00000000e-02 1.00000000e-02 7.04187619e+01 1.69400000e+01\n",
      " 3.28000000e+00 9.81000000e+00 1.61000000e+00 6.49000000e+00\n",
      " 1.07500000e+01 5.16000000e+00 5.68500000e+00 5.47000000e+00\n",
      " 9.90000000e-01 1.37100000e+01 2.22300000e+01 2.98000000e+00\n",
      " 5.39000000e+00 5.32000000e+00 2.83700000e+01 5.43900000e+01\n",
      " 7.57300000e+01 7.30400000e+01 4.43800000e+01 5.03100000e+01\n",
      " 4.45300000e+01 2.56900000e+01 3.41400000e+01 3.30300000e+01\n",
      " 2.93000000e+01 2.26500000e+01 3.09420000e+01 5.49200000e+01\n",
      " 1.95100000e+01 1.75973333e+01 3.93200000e+01 4.68200000e+01\n",
      " 2.31600000e+01 5.31000000e+01 1.99804167e+01 4.03100000e+01\n",
      " 2.17400000e+01 3.96300000e+01 2.42675000e+01 1.75600000e+01\n",
      " 3.03800000e+01 1.54900000e+01 1.84000000e+01 1.69500000e+01\n",
      " 8.14000000e+00 1.54400000e+01 7.35000000e+00 1.35333333e+01\n",
      " 1.12800000e+01 9.81000000e+00 1.22500000e+01 1.94100000e+01\n",
      " 1.23500000e+01 9.00000000e+00 1.99804167e+01 7.35000000e+00\n",
      " 4.75000000e+00 3.10000000e+00 1.18000000e+00 7.10000000e-01\n",
      " 1.26000000e+00 1.36000000e+00 6.00000000e-01 1.00000000e-01\n",
      " 1.06200000e+01 1.04000000e+00 1.73000000e+00 1.00000000e-02]\n"
     ]
    },
    {
     "data": {
      "text/plain": [
       "\"X_grid = np.arange(min(x), max(x), 0.01)  \\n  \\n\\n# reshape for reshaping the data into a len(X_grid)*1 array,  \\n# i.e. to make a column out of the X_grid value                   \\nX_grid = X_grid.reshape((len(X_grid), 1)) \\n  \\n# Scatter plot for original data \\nplt.scatter(x, y, color = 'blue')   \\n  \\n# plot predicted data \\nplt.plot(X_grid, Y_pred,  \\n         color = 'green')  \\nplt.title('Random Forest Regression') \\nplt.xlabel('Position level') \\nplt.ylabel('Salary') \\nplt.show()\""
      ]
     },
     "execution_count": 42,
     "metadata": {},
     "output_type": "execute_result"
    }
   ],
   "source": [
    "import numpy as np \n",
    "import matplotlib.pyplot as plt \n",
    "import pandas as pd \n",
    "from sklearn.metrics import classification_report\n",
    "\n",
    "data = pd.read_csv(\"final.csv\")\n",
    "#df = df.replace(r'^\\s*$', np.nan, regex=True)\n",
    "df2 = pd.read_csv(\"test.csv\")\n",
    "#df2 = df2.replace(r'^\\s*$', np.nan, regex=True)\n",
    "data = df\n",
    "#data = pd.DataFrame(data).fillna()\n",
    "#df2 = pd.DataFrame(df2).fillna()\n",
    "print(data) \n",
    "\n",
    "data=data.fillna(data.mean())\n",
    "df2 = df2.fillna(df2.mean())\n",
    "x = data.iloc[:, 6:10].values  \n",
    "print(x) \n",
    "y = data.iloc[:, 10].values\n",
    "\n",
    "x1 = df2.iloc[:, 6:10].values\n",
    "y1 = df2.iloc[:, 10].values\n",
    "\n",
    "\n",
    "# Fitting Random Forest Regression to the dataset \n",
    "# import the regressor \n",
    "from sklearn.ensemble import RandomForestRegressor \n",
    "  \n",
    " # create regressor object \n",
    "regressor = RandomForestRegressor(n_estimators = 100, random_state = 0) \n",
    "  \n",
    "# fit the regressor with x and y data \n",
    "regressor.fit(x, y) \n",
    "\n",
    "Y_pred = regressor.predict(x1)  # test the output by changing values \n",
    "print(Y_pred)\n",
    "df2[\"prediction\"] = Y_pred\n",
    "df2\n",
    "#Y_pred.to_csv(\"result.csv\",index = False, column=['Result'])\n",
    "'''X_grid = np.arange(min(x), max(x), 0.01)  \n",
    "  \n",
    "\n",
    "# reshape for reshaping the data into a len(X_grid)*1 array,  \n",
    "# i.e. to make a column out of the X_grid value                   \n",
    "X_grid = X_grid.reshape((len(X_grid), 1)) \n",
    "  \n",
    "# Scatter plot for original data \n",
    "plt.scatter(x, y, color = 'blue')   \n",
    "  \n",
    "# plot predicted data \n",
    "plt.plot(X_grid, Y_pred,  \n",
    "         color = 'green')  \n",
    "plt.title('Random Forest Regression') \n",
    "plt.xlabel('Position level') \n",
    "plt.ylabel('Salary') \n",
    "plt.show()'''"
   ]
  },
  {
   "cell_type": "code",
   "execution_count": 44,
   "metadata": {},
   "outputs": [],
   "source": [
    "df2.to_csv(\"final-result.csv\",index=False)"
   ]
  },
  {
   "cell_type": "code",
   "execution_count": 3,
   "metadata": {},
   "outputs": [
    {
     "name": "stdout",
     "output_type": "stream",
     "text": [
      "11.795831402650002\n"
     ]
    },
    {
     "data": {
      "text/plain": [
       "<AxesSubplot:xlabel='Date'>"
      ]
     },
     "execution_count": 3,
     "metadata": {},
     "output_type": "execute_result"
    },
    {
     "data": {
      "image/png": "[encoded data removed]",
      "text/plain": [
       "<Figure size 432x288 with 1 Axes>"
      ]
     },
     "metadata": {
      "needs_background": "light"
     },
     "output_type": "display_data"
    }
   ],
   "source": [
    "import pandas as pd\n",
    "import numpy as np\n",
    "from sklearn.metrics import mean_squared_error\n",
    "\n",
    "df2 = pd.read_csv(\"final-result.csv\")\n",
    "y1 = df2[\"City Wide Daily Average\"]\n",
    "y2 = df2[\"prediction\"]\n",
    "rms = np.sqrt(mean_squared_error(y1,y2))\n",
    "print(rms)\n",
    "df2.set_index('Date')['prediction'].plot()\n",
    "#df2.plot.scatter(x='Date',\n",
    "#                      y='prediction',\n",
    "#                      c='DarkBlue')"
   ]
  },
  {
   "cell_type": "code",
   "execution_count": 53,
   "metadata": {},
   "outputs": [
    {
     "data": {
      "text/plain": [
       "<AxesSubplot:xlabel='Date'>"
      ]
     },
     "execution_count": 53,
     "metadata": {},
     "output_type": "execute_result"
    },
    {
     "data": {
      "image/png": "[encoded data removed]",
      "text/plain": [
       "<Figure size 432x288 with 1 Axes>"
      ]
     },
     "metadata": {
      "needs_background": "light"
     },
     "output_type": "display_data"
    }
   ],
   "source": [
    "df2.set_index('Date')['City Wide Daily Average'].plot()"
   ]
  },
  {
   "cell_type": "code",
   "execution_count": 4,
   "metadata": {},
   "outputs": [
    {
     "data": {
      "text/plain": [
       "139.14163847974393"
      ]
     },
     "execution_count": 4,
     "metadata": {},
     "output_type": "execute_result"
    }
   ],
   "source": [
    "mean_squared_error(y1,y2)"
   ]
  },
  {
   "cell_type": "code",
   "execution_count": null,
   "metadata": {},
   "outputs": [],
   "source": []
  }
 ],
 "metadata": {
  "kernelspec": {
   "display_name": "Python 3",
   "language": "python",
   "name": "python3"
  },
  "language_info": {
   "codemirror_mode": {
    "name": "ipython",
    "version": 3
   },
   "file_extension": ".py",
   "mimetype": "text/x-python",
   "name": "python",
   "nbconvert_exporter": "python",
   "pygments_lexer": "ipython3",
   "version": "3.6.8"
  }
 },
 "nbformat": 4,
 "nbformat_minor": 4
}
