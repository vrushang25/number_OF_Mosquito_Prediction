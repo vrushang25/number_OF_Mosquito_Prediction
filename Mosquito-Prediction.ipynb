{
 "cells": [
  {
   "cell_type": "code",
   "execution_count": null,
   "metadata": {},
   "outputs": [],
   "source": [
    "import numpy as np \n",
    "import matplotlib.pyplot as plt \n",
    "import pandas as pd \n",
    "from sklearn.metrics import mean_squared_error\n",
    "from sklearn.ensemble import RandomForestRegressor \n",
    "\n",
    "data = pd.read_csv(\"train.csv\")\n",
    "#df = df.replace(r'^\\s*$', np.nan, regex=True)\n",
    "df2 = pd.read_csv(\"test.csv\")\n",
    "#df2 = df2.replace(r'^\\s*$', np.nan, regex=True)\n",
    "#data = df\n",
    "#data = pd.DataFrame(data).fillna()\n",
    "#df2 = pd.DataFrame(df2).fillna()\n",
    "print(data) \n",
    "\n",
    "data=data.fillna(data.mean())\n",
    "df2 = df2.fillna(df2.mean())\n",
    "x = data.iloc[:, 6:10].values  \n",
    "print(x) \n",
    "y = data.iloc[:, 10].values\n",
    "\n",
    "x1 = df2.iloc[:, 6:10].values\n",
    "y1 = df2.iloc[:, 10].values\n",
    "\n",
    "\n",
    "# Fitting Random Forest Regression to the dataset \n",
    "# import the regressor \n",
    "\n",
    "  \n",
    " # create regressor object \n",
    "regressor = RandomForestRegressor(n_estimators = 100, random_state = 0) \n",
    "  \n",
    "# fit the regressor with x and y data \n",
    "regressor.fit(x, y) \n",
    "\n",
    "Y_pred = regressor.predict(x1)  # test the output by changing values \n",
    "print(Y_pred)\n",
    "df2[\"prediction\"] = Y_pred\n",
    "#Y_pred.to_csv(\"result.csv\",index = False, column=['Result'])\n",
    "#df2 = pd.read_csv(\"final-result.csv\")\n",
    "y1 = df2[\"City Wide Daily Average\"]\n",
    "y2 = df2[\"prediction\"]\n",
    "rms = np.sqrt(mean_squared_error(y1,y2))\n",
    "print(mean_squared_error(y1,y2))\n",
    "df2.set_index('Date')['prediction'].plot()\n",
    "df2.set_index('Date')['City Wide Daily Average'].plot()\n"
   ]
  },
  {
   "cell_type": "code",
   "execution_count": null,
   "metadata": {},
   "outputs": [],
   "source": []
  },
  {
   "cell_type": "code",
   "execution_count": null,
   "metadata": {},
   "outputs": [],
   "source": []
  },
  {
   "cell_type": "code",
   "execution_count": null,
   "metadata": {},
   "outputs": [],
   "source": []
  },
  {
   "cell_type": "code",
   "execution_count": null,
   "metadata": {},
   "outputs": [],
   "source": []
  },
  {
   "cell_type": "code",
   "execution_count": null,
   "metadata": {},
   "outputs": [],
   "source": []
  },
  {
   "cell_type": "code",
   "execution_count": null,
   "metadata": {},
   "outputs": [],
   "source": []
  },
  {
   "cell_type": "code",
   "execution_count": null,
   "metadata": {},
   "outputs": [],
   "source": []
  },
  {
   "cell_type": "code",
   "execution_count": null,
   "metadata": {},
   "outputs": [],
   "source": []
  }
 ],
 "metadata": {
  "kernelspec": {
   "display_name": "Python 3",
   "language": "python",
   "name": "python3"
  },
  "language_info": {
   "codemirror_mode": {
    "name": "ipython",
    "version": 3
   },
   "file_extension": ".py",
   "mimetype": "text/x-python",
   "name": "python",
   "nbconvert_exporter": "python",
   "pygments_lexer": "ipython3",
   "version": "3.6.8"
  }
 },
 "nbformat": 4,
 "nbformat_minor": 4
}
